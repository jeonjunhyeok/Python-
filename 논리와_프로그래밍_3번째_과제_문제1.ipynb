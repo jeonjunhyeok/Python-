{
  "nbformat": 4,
  "nbformat_minor": 0,
  "metadata": {
    "colab": {
      "provenance": [],
      "collapsed_sections": [],
      "authorship_tag": "ABX9TyPFCUtmJXwOLeI9gjHQ89/A",
      "include_colab_link": true
    },
    "kernelspec": {
      "name": "python3",
      "display_name": "Python 3"
    },
    "language_info": {
      "name": "python"
    }
  },
  "cells": [
    {
      "cell_type": "markdown",
      "metadata": {
        "id": "view-in-github",
        "colab_type": "text"
      },
      "source": [
        "<a href=\"https://colab.research.google.com/github/jeonjunhyeok/Python-/blob/main/%EB%85%BC%EB%A6%AC%EC%99%80_%ED%94%84%EB%A1%9C%EA%B7%B8%EB%9E%98%EB%B0%8D_3%EB%B2%88%EC%A7%B8_%EA%B3%BC%EC%A0%9C_%EB%AC%B8%EC%A0%9C1.ipynb\" target=\"_parent\"><img src=\"https://colab.research.google.com/assets/colab-badge.svg\" alt=\"Open In Colab\"/></a>"
      ]
    },
    {
      "cell_type": "code",
      "execution_count": null,
      "metadata": {
        "id": "NQwxLUCBjqGM",
        "outputId": "321a0764-0f77-4aac-8a1a-3220da5fd514",
        "colab": {
          "base_uri": "https://localhost:8080/"
        }
      },
      "outputs": [
        {
          "output_type": "stream",
          "name": "stdout",
          "text": [
            "X:2\n",
            "Y:4\n",
            "B.x는 y의 약수이지만, y가 아니다.\n"
          ]
        }
      ],
      "source": [
        "#202003082 전준혁 3번째 과제 질문1\n",
        "def f(a,b):\n",
        "  if b%a==0:\n",
        "    return 1\n",
        "  else:\n",
        "    return 0\n",
        "x=int(input('X:'))\n",
        "y=int(input('Y:'))\n",
        "T={(1,1):\"A.x와 y는 같은숫자이다.\",(1,0):\"B.x는 y의 약수이지만, y가 아니다.\",(0,1):\"C.y는 x의 약수이지만, x가 아니다.\",(0,0):\"D.x와 y는 서로의 약수가 아니다.\"}\n",
        "print(T[f(x,y),f(y,x)])"
      ]
    }
  ]
}
{
  "nbformat": 4,
  "nbformat_minor": 0,
  "metadata": {
    "colab": {
      "provenance": [],
      "collapsed_sections": [],
      "authorship_tag": "ABX9TyM6x0Bk4hgBJpGJuPl0sh06",
      "include_colab_link": true
    },
    "kernelspec": {
      "name": "python3",
      "display_name": "Python 3"
    },
    "language_info": {
      "name": "python"
    }
  },
  "cells": [
    {
      "cell_type": "markdown",
      "metadata": {
        "id": "view-in-github",
        "colab_type": "text"
      },
      "source": [
        "<a href=\"https://colab.research.google.com/github/jeonjunhyeok/Python-/blob/main/%EB%85%BC%EB%A6%AC%EC%99%80_%ED%94%84%EB%A1%9C%EA%B7%B8%EB%9E%98%EB%B0%8D_1%EB%B2%88%EC%A7%B8_%EA%B3%BC%EC%A0%9C1%2C3%EB%B2%88.ipynb\" target=\"_parent\"><img src=\"https://colab.research.google.com/assets/colab-badge.svg\" alt=\"Open In Colab\"/></a>"
      ]
    },
    {
      "cell_type": "code",
      "source": [
        "#202003082 전준혁\n",
        "#과제 1번\n",
        "a=1\n",
        "b=2\n",
        "print(a+b)\n",
        "\n",
        "#과제 3번\n",
        "N=int(input(\"숫자를 입력하시오.\"))\n",
        "a=1\n",
        "while a<N+1:\n",
        "    b=1\n",
        "    while b<a+1:\n",
        "        print(b, end='')\n",
        "        b+=1\n",
        "    print()\n",
        "    a+=1\n",
        "if N>30:\n",
        "    print(\"출력할 수가 너무 많습니다\")"
      ],
      "metadata": {
        "colab": {
          "base_uri": "https://localhost:8080/"
        },
        "id": "68U7asIaGg70",
        "outputId": "91b45071-0888-4626-ac77-8eec36ae25a5"
      },
      "execution_count": null,
      "outputs": [
        {
          "output_type": "stream",
          "name": "stdout",
          "text": [
            "3\n",
            "숫자를 입력하시오.5\n",
            "1\n",
            "12\n",
            "123\n",
            "1234\n",
            "12345\n"
          ]
        }
      ]
    }
  ]
}
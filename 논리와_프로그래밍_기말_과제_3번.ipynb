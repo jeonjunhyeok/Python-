{
  "nbformat": 4,
  "nbformat_minor": 0,
  "metadata": {
    "colab": {
      "provenance": [],
      "authorship_tag": "ABX9TyOYmk2KeouGzAo3w3UKaOHW",
      "include_colab_link": true
    },
    "kernelspec": {
      "name": "python3",
      "display_name": "Python 3"
    },
    "language_info": {
      "name": "python"
    }
  },
  "cells": [
    {
      "cell_type": "markdown",
      "metadata": {
        "id": "view-in-github",
        "colab_type": "text"
      },
      "source": [
        "<a href=\"https://colab.research.google.com/github/jeonjunhyeok/Python-/blob/main/%EB%85%BC%EB%A6%AC%EC%99%80_%ED%94%84%EB%A1%9C%EA%B7%B8%EB%9E%98%EB%B0%8D_%EA%B8%B0%EB%A7%90_%EA%B3%BC%EC%A0%9C_3%EB%B2%88.ipynb\" target=\"_parent\"><img src=\"https://colab.research.google.com/assets/colab-badge.svg\" alt=\"Open In Colab\"/></a>"
      ]
    },
    {
      "cell_type": "code",
      "source": [
        "#숙제 1번\n",
        "from tensorflow.keras.models import Sequential\n",
        "from tensorflow.keras.layers import Dense,Dropout\n",
        "from tensorflow.keras.callbacks import ModelCheckpoint, EarlyStopping\n",
        "from sklearn.model_selection import train_test_split\n",
        "from tensorflow.keras.models import  load_model\n",
        "\n",
        "import pandas as pd\n",
        "import matplotlib.pyplot as plt\n",
        "import numpy as np\n",
        "import tensorflow as tf\n",
        "\n",
        "np.random.seed(3)\n",
        "tf.random.set_seed(3)\n",
        "\n",
        "Heart=pd.read_csv(\"https://raw.githubusercontent.com/jeonjunhyeok/Jeonjunhyeok/main/heart%20disease%20classification%20dataset.csv\")\n",
        "\n",
        "print(Heart.isnull().sum().sort_values(ascending=False).head(14))\n",
        "Heart=Heart.fillna(Heart.mean(numeric_only=True))\n",
        "\n",
        "X=Heart.iloc[:,1:14]\n",
        "X=pd.get_dummies(X)\n",
        "Y=Heart.iloc[:,14]\n",
        "Y=pd.get_dummies(Y)\n",
        "\n",
        "X=(X -X.mean(numeric_only=True))/X.std(numeric_only=True)\n",
        "X_train,X_test,Y_train,Y_test = train_test_split(X,Y,test_size=0.1,shuffle=True)\n",
        "\n",
        "model = Sequential()\n",
        "model.add(Dense(120, input_dim=X_train.shape[1], activation='relu'))\n",
        "model.add(Dense(60, activation='relu'))\n",
        "model.add(Dropout(0.25))\n",
        "model.add(Dense(30, activation='relu'))\n",
        "model.add(Dense(2, activation='softmax'))\n",
        "model.summary()\n",
        "model.compile(optimizer ='adam', loss='categorical_crossentropy',metrics=['accuracy'])\n",
        "history = model.fit(X_train,Y_train, validation_split=0.2,verbose=0, epochs=1000, batch_size=50)\n",
        "\n",
        "hist_df=pd.DataFrame(history.history)\n",
        "hist_df\n",
        "y_vaccuracy=hist_df['val_accuracy']\n",
        "y_accuracy=hist_df['accuracy']\n",
        "\n",
        "x_len = np.arange(len(y_accuracy))\n",
        "plt.plot(x_len, y_vaccuracy, \"o\", c=\"red\", markersize=2, label='Testset_accuracy')\n",
        "plt.plot(x_len, y_accuracy, \"o\", c=\"blue\", markersize=2, label='Trainset_accuracy')\n",
        "\n",
        "plt.legend(loc='upper right')\n",
        "plt.xlabel('epoch')\n",
        "plt.ylabel('accuracy')\n",
        "plt.show()\n",
        "\n",
        "score=model.evaluate(X_test,Y_test)\n",
        "print('Test accuracy:',score[1])\n",
        "\n",
        "early_stopping_callback = EarlyStopping(monitor='val_accuracy', patience=20)\n",
        "modelpath=\"./data/model/bestmodel.hdf5\"\n",
        "checkpointer = ModelCheckpoint(filepath=modelpath, monitor='val_accuracy', verbose=0, save_best_only=True)\n",
        "history=model.fit(X_train, Y_train, epochs=1000, batch_size=50, validation_split=0.2, verbose=1, callbacks=[early_stopping_callback,checkpointer])"
      ],
      "metadata": {
        "colab": {
          "base_uri": "https://localhost:8080/",
          "height": 1000
        },
        "id": "NZwtmepSqO4l",
        "outputId": "efa81c66-5166-4a3f-f4b1-d308a6f03737"
      },
      "execution_count": null,
      "outputs": [
        {
          "output_type": "stream",
          "name": "stdout",
          "text": [
            "thalach       5\n",
            "trestbps      4\n",
            "chol          1\n",
            "Unnamed: 0    0\n",
            "age           0\n",
            "sex           0\n",
            "cp            0\n",
            "fbs           0\n",
            "restecg       0\n",
            "exang         0\n",
            "oldpeak       0\n",
            "slope         0\n",
            "ca            0\n",
            "thal          0\n",
            "dtype: int64\n",
            "Model: \"sequential_5\"\n",
            "_________________________________________________________________\n",
            " Layer (type)                Output Shape              Param #   \n",
            "=================================================================\n",
            " dense_20 (Dense)            (None, 120)               1800      \n",
            "                                                                 \n",
            " dense_21 (Dense)            (None, 60)                7260      \n",
            "                                                                 \n",
            " dropout_5 (Dropout)         (None, 60)                0         \n",
            "                                                                 \n",
            " dense_22 (Dense)            (None, 30)                1830      \n",
            "                                                                 \n",
            " dense_23 (Dense)            (None, 2)                 62        \n",
            "                                                                 \n",
            "=================================================================\n",
            "Total params: 10,952\n",
            "Trainable params: 10,952\n",
            "Non-trainable params: 0\n",
            "_________________________________________________________________\n"
          ]
        },
        {
          "output_type": "display_data",
          "data": {
            "text/plain": [
              "<Figure size 432x288 with 1 Axes>"
            ],
            "image/png": "[encoded data removed]"
          },
          "metadata": {
            "needs_background": "light"
          }
        },
        {
          "output_type": "stream",
          "name": "stdout",
          "text": [
            "1/1 [==============================] - 0s 22ms/step - loss: 3.5183 - accuracy: 0.9032\n",
            "Test accuracy: 0.9032257795333862\n",
            "Epoch 1/1000\n",
            "5/5 [==============================] - 0s 23ms/step - loss: 1.1171e-05 - accuracy: 1.0000 - val_loss: 6.3080 - val_accuracy: 0.6364\n",
            "Epoch 2/1000\n",
            "5/5 [==============================] - 0s 10ms/step - loss: 5.5792e-05 - accuracy: 1.0000 - val_loss: 6.3007 - val_accuracy: 0.6364\n",
            "Epoch 3/1000\n",
            "5/5 [==============================] - 0s 10ms/step - loss: 1.4642e-05 - accuracy: 1.0000 - val_loss: 6.2959 - val_accuracy: 0.6364\n",
            "Epoch 4/1000\n",
            "5/5 [==============================] - 0s 13ms/step - loss: 3.1131e-05 - accuracy: 1.0000 - val_loss: 6.2921 - val_accuracy: 0.6364\n",
            "Epoch 5/1000\n",
            "5/5 [==============================] - 0s 7ms/step - loss: 6.8498e-06 - accuracy: 1.0000 - val_loss: 6.2897 - val_accuracy: 0.6364\n",
            "Epoch 6/1000\n",
            "5/5 [==============================] - 0s 7ms/step - loss: 1.3149e-05 - accuracy: 1.0000 - val_loss: 6.2878 - val_accuracy: 0.6364\n",
            "Epoch 7/1000\n",
            "5/5 [==============================] - 0s 8ms/step - loss: 2.6744e-05 - accuracy: 1.0000 - val_loss: 6.2844 - val_accuracy: 0.6364\n",
            "Epoch 8/1000\n",
            "5/5 [==============================] - 0s 9ms/step - loss: 6.9789e-06 - accuracy: 1.0000 - val_loss: 6.2773 - val_accuracy: 0.6364\n",
            "Epoch 9/1000\n",
            "5/5 [==============================] - 0s 10ms/step - loss: 2.2324e-05 - accuracy: 1.0000 - val_loss: 6.2737 - val_accuracy: 0.6364\n",
            "Epoch 10/1000\n",
            "5/5 [==============================] - 0s 8ms/step - loss: 1.0797e-05 - accuracy: 1.0000 - val_loss: 6.2718 - val_accuracy: 0.6364\n",
            "Epoch 11/1000\n",
            "5/5 [==============================] - 0s 9ms/step - loss: 5.1895e-06 - accuracy: 1.0000 - val_loss: 6.2709 - val_accuracy: 0.6364\n",
            "Epoch 12/1000\n",
            "5/5 [==============================] - 0s 9ms/step - loss: 3.6683e-06 - accuracy: 1.0000 - val_loss: 6.2700 - val_accuracy: 0.6364\n",
            "Epoch 13/1000\n",
            "5/5 [==============================] - 0s 10ms/step - loss: 1.8428e-05 - accuracy: 1.0000 - val_loss: 6.2707 - val_accuracy: 0.6364\n",
            "Epoch 14/1000\n",
            "5/5 [==============================] - 0s 10ms/step - loss: 6.3833e-06 - accuracy: 1.0000 - val_loss: 6.2717 - val_accuracy: 0.6364\n",
            "Epoch 15/1000\n",
            "5/5 [==============================] - 0s 10ms/step - loss: 6.8480e-06 - accuracy: 1.0000 - val_loss: 6.2715 - val_accuracy: 0.6364\n",
            "Epoch 16/1000\n",
            "5/5 [==============================] - 0s 10ms/step - loss: 1.5120e-05 - accuracy: 1.0000 - val_loss: 6.2749 - val_accuracy: 0.6364\n",
            "Epoch 17/1000\n",
            "5/5 [==============================] - 0s 9ms/step - loss: 8.8747e-04 - accuracy: 1.0000 - val_loss: 6.5265 - val_accuracy: 0.6364\n",
            "Epoch 18/1000\n",
            "5/5 [==============================] - 0s 8ms/step - loss: 9.6771e-06 - accuracy: 1.0000 - val_loss: 6.8052 - val_accuracy: 0.6364\n",
            "Epoch 19/1000\n",
            "5/5 [==============================] - 0s 9ms/step - loss: 4.5400e-05 - accuracy: 1.0000 - val_loss: 6.9712 - val_accuracy: 0.6364\n",
            "Epoch 20/1000\n",
            "5/5 [==============================] - 0s 14ms/step - loss: 8.4159e-05 - accuracy: 1.0000 - val_loss: 7.0654 - val_accuracy: 0.6364\n",
            "Epoch 21/1000\n",
            "5/5 [==============================] - 0s 9ms/step - loss: 1.6318e-05 - accuracy: 1.0000 - val_loss: 7.1193 - val_accuracy: 0.6364\n"
          ]
        }
      ]
    },
    {
      "cell_type": "code",
      "source": [
        "#숙제 2번\n",
        "from tensorflow.keras.models import Sequential\n",
        "from tensorflow.keras.layers import Dense\n",
        "from sklearn.model_selection import KFold\n",
        "from sklearn.metrics import accuracy_score\n",
        "import pandas as pd\n",
        "\n",
        "Heart=pd.read_csv(\"https://raw.githubusercontent.com/jeonjunhyeok/Jeonjunhyeok/main/heart%20disease%20classification%20dataset.csv\")\n",
        "\n",
        "print(Heart.isnull().sum().sort_values(ascending=False).head(14))\n",
        "Heart=Heart.fillna(Heart.mean(numeric_only=True))\n",
        "\n",
        "X=Heart.iloc[:,1:14]\n",
        "X=pd.get_dummies(X)\n",
        "Y=Heart.iloc[:,14]\n",
        "Y=pd.get_dummies(Y)\n",
        "\n",
        "X=(X -X.mean(numeric_only=True))/X.std(numeric_only=True)\n",
        "\n",
        "k=6\n",
        "kfold=KFold(n_splits=k, shuffle=True)\n",
        "acc_score=[]\n",
        "\n",
        "def model_fn():\n",
        "  model=Sequential()\n",
        "  model.add(Dense(30, input_dim=14,activation='relu'))\n",
        "  model.add(Dense(20, activation='relu'))\n",
        "  model.add(Dense(2, activation='sigmoid'))\n",
        "  return model\n",
        "\n",
        "for train_index, test_index in kfold.split(X):\n",
        "  X_train, X_test = X.iloc[train_index,:], X.iloc[test_index,:]\n",
        "  Y_train, Y_test = Y.iloc[train_index],Y.iloc[test_index]\n",
        "\n",
        "  model=model_fn()\n",
        "  model.compile(loss='categorical_crossentropy', optimizer='adam', metrics=['accuracy'])\n",
        "  history = model.fit(X_train, Y_train, epochs=100, batch_size=10, verbose=0)\n",
        "\n",
        "  accuracy=model.evaluate(X_test, Y_test)[1]\n",
        "  acc_score.append(accuracy)\n",
        "\n",
        "avg_acc_score=sum(acc_score)/k\n",
        "\n",
        "print('정확도: ',acc_score)\n",
        "print('평균: ', avg_acc_score)"
      ],
      "metadata": {
        "colab": {
          "base_uri": "https://localhost:8080/"
        },
        "id": "sf06gD8H_R21",
        "outputId": "270b2442-e075-4e5f-8e32-9ac7a1328080"
      },
      "execution_count": null,
      "outputs": [
        {
          "output_type": "stream",
          "name": "stdout",
          "text": [
            "thalach       5\n",
            "trestbps      4\n",
            "chol          1\n",
            "Unnamed: 0    0\n",
            "age           0\n",
            "sex           0\n",
            "cp            0\n",
            "fbs           0\n",
            "restecg       0\n",
            "exang         0\n",
            "oldpeak       0\n",
            "slope         0\n",
            "ca            0\n",
            "thal          0\n",
            "dtype: int64\n",
            "2/2 [==============================] - 0s 5ms/step - loss: 1.0041 - accuracy: 0.8235\n",
            "2/2 [==============================] - 0s 14ms/step - loss: 0.3994 - accuracy: 0.8824\n",
            "2/2 [==============================] - 0s 9ms/step - loss: 1.3472 - accuracy: 0.7451\n",
            "2/2 [==============================] - 0s 8ms/step - loss: 0.4950 - accuracy: 0.8200\n",
            "2/2 [==============================] - 0s 6ms/step - loss: 1.0508 - accuracy: 0.8000\n",
            "2/2 [==============================] - 0s 5ms/step - loss: 1.1291 - accuracy: 0.8400\n",
            "정확도:  [0.8235294222831726, 0.8823529481887817, 0.7450980544090271, 0.8199999928474426, 0.800000011920929, 0.8399999737739563]\n",
            "평균:  0.8184967339038849\n"
          ]
        }
      ]
    }
  ]
}
{
  "nbformat": 4,
  "nbformat_minor": 0,
  "metadata": {
    "colab": {
      "provenance": [],
      "collapsed_sections": [],
      "authorship_tag": "ABX9TyP8hxZLKmmSIVNX7mukZ2+b",
      "include_colab_link": true
    },
    "kernelspec": {
      "name": "python3",
      "display_name": "Python 3"
    },
    "language_info": {
      "name": "python"
    }
  },
  "cells": [
    {
      "cell_type": "markdown",
      "metadata": {
        "id": "view-in-github",
        "colab_type": "text"
      },
      "source": [
        "<a href=\"https://colab.research.google.com/github/jeonjunhyeok/Python-/blob/main/%EB%85%BC%EB%A6%AC%EC%99%80_%ED%94%84%EB%A1%9C%EA%B7%B8%EB%9E%98%EB%B0%8D_2%EB%B2%88%EC%A7%B8_%EA%B3%BC%EC%A0%9C_%EC%A7%88%EB%AC%B81.ipynb\" target=\"_parent\"><img src=\"https://colab.research.google.com/assets/colab-badge.svg\" alt=\"Open In Colab\"/></a>"
      ]
    },
    {
      "cell_type": "code",
      "execution_count": null,
      "metadata": {
        "colab": {
          "base_uri": "https://localhost:8080/"
        },
        "id": "tfp-45jX0pYL",
        "outputId": "ccc178a4-9c1d-4c01-ef5d-fb3cc4bddb47"
      },
      "outputs": [
        {
          "output_type": "stream",
          "name": "stdout",
          "text": [
            "자연수한개를 입력하시오.12\n",
            "계속입력을 원하시면, 자연수 한개를 입력하시고, 아니라면 0을 입력하세요.7\n",
            "계속입력을 원하시면, 자연수 한개를 입력하시고, 아니라면 0을 입력하세요.3\n",
            "계속입력을 원하시면, 자연수 한개를 입력하시고, 아니라면 0을 입력하세요.3\n",
            "계속입력을 원하시면, 자연수 한개를 입력하시고, 아니라면 0을 입력하세요.6\n",
            "계속입력을 원하시면, 자연수 한개를 입력하시고, 아니라면 0을 입력하세요.543\n",
            "계속입력을 원하시면, 자연수 한개를 입력하시고, 아니라면 0을 입력하세요.121\n",
            "계속입력을 원하시면, 자연수 한개를 입력하시고, 아니라면 0을 입력하세요.0\n",
            "\n",
            "당신이 입력한 숫자는 큰 것부터 순서대로 말한다면 아래와 같습니다.\n",
            "543,121,12,7,6,3,3\n"
          ]
        }
      ],
      "source": [
        "1#202003082 전준혁 2번째 과제/ 질문 1\n",
        "N=[int(input('자연수한개를 입력하시오.'))]\n",
        "a=1\n",
        "while a<=99:\n",
        "    A=[int(input('계속입력을 원하시면, 자연수 한개를 입력하시고, 아니라면 0을 입력하세요.'))]\n",
        "    N+=A\n",
        "    a+=1\n",
        "    if A==[0]:\n",
        "        a+=99\n",
        "        N.remove(0)\n",
        "D=[]\n",
        "for B in range(1,len(N)+1):\n",
        "    C=[max(N)]\n",
        "    N.remove(max(N))\n",
        "    D+=C\n",
        "print('\\n당신이 입력한 숫자는 큰 것부터 순서대로 말한다면 아래와 같습니다.')\n",
        "for T in range(0,len(D)):\n",
        "    if T<len(D)-1:\n",
        "        print(D[T],end=',')\n",
        "    elif T==len(D)-1:\n",
        "        print(D[T])\n",
        "if a==100:\n",
        "    print('이제 그만하세요. 벌써 100개를 입력했어요')"
      ]
    },
    {
      "cell_type": "code",
      "source": [],
      "metadata": {
        "id": "ek_TsjhzDYt2"
      },
      "execution_count": null,
      "outputs": []
    }
  ]
}
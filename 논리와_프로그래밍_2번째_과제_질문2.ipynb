{
  "nbformat": 4,
  "nbformat_minor": 0,
  "metadata": {
    "colab": {
      "provenance": [],
      "collapsed_sections": [],
      "authorship_tag": "ABX9TyOj9zuajvPOb6Cg8PS4vQHF",
      "include_colab_link": true
    },
    "kernelspec": {
      "name": "python3",
      "display_name": "Python 3"
    },
    "language_info": {
      "name": "python"
    }
  },
  "cells": [
    {
      "cell_type": "markdown",
      "metadata": {
        "id": "view-in-github",
        "colab_type": "text"
      },
      "source": [
        "<a href=\"https://colab.research.google.com/github/jeonjunhyeok/Python-/blob/main/%EB%85%BC%EB%A6%AC%EC%99%80_%ED%94%84%EB%A1%9C%EA%B7%B8%EB%9E%98%EB%B0%8D_2%EB%B2%88%EC%A7%B8_%EA%B3%BC%EC%A0%9C_%EC%A7%88%EB%AC%B82.ipynb\" target=\"_parent\"><img src=\"https://colab.research.google.com/assets/colab-badge.svg\" alt=\"Open In Colab\"/></a>"
      ]
    },
    {
      "cell_type": "code",
      "execution_count": null,
      "metadata": {
        "colab": {
          "base_uri": "https://localhost:8080/"
        },
        "id": "tfp-45jX0pYL",
        "outputId": "c21a73b9-7ae2-4f4f-ffd2-4461fd5a49e0"
      },
      "outputs": [
        {
          "output_type": "stream",
          "name": "stdout",
          "text": [
            "숫자를 입력하시오!6\n",
            "1\n",
            "\n",
            "*2\n",
            "\n",
            "**3\n",
            "\n",
            "***4\n",
            "\n",
            "****5\n",
            "\n",
            "*****6\n",
            "\n"
          ]
        }
      ],
      "source": [
        "#202003082  전준혁  2번째과제/ 질문2\n",
        "N=int(input('숫자를 입력하시오!'))\n",
        "a=1\n",
        "while a<=N:\n",
        "  b=1\n",
        "  while b<a:\n",
        "    print('*',end='')\n",
        "    b+=1\n",
        "  print(a)\n",
        "  print()\n",
        "  a+=1\n",
        "if N>31:\n",
        "  print('나타낼 수가 너무 많습니다!')"
      ]
    },
    {
      "cell_type": "code",
      "source": [],
      "metadata": {
        "id": "ek_TsjhzDYt2"
      },
      "execution_count": null,
      "outputs": []
    }
  ]
}
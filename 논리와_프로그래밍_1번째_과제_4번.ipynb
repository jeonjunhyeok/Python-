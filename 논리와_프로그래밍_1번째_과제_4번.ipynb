{
  "nbformat": 4,
  "nbformat_minor": 0,
  "metadata": {
    "colab": {
      "provenance": [],
      "collapsed_sections": [],
      "authorship_tag": "ABX9TyNXR9bS2vjNoJbtYB5uH0vE",
      "include_colab_link": true
    },
    "kernelspec": {
      "name": "python3",
      "display_name": "Python 3"
    },
    "language_info": {
      "name": "python"
    }
  },
  "cells": [
    {
      "cell_type": "markdown",
      "metadata": {
        "id": "view-in-github",
        "colab_type": "text"
      },
      "source": [
        "<a href=\"https://colab.research.google.com/github/jeonjunhyeok/Python-/blob/main/%EB%85%BC%EB%A6%AC%EC%99%80_%ED%94%84%EB%A1%9C%EA%B7%B8%EB%9E%98%EB%B0%8D_1%EB%B2%88%EC%A7%B8_%EA%B3%BC%EC%A0%9C_4%EB%B2%88.ipynb\" target=\"_parent\"><img src=\"https://colab.research.google.com/assets/colab-badge.svg\" alt=\"Open In Colab\"/></a>"
      ]
    },
    {
      "cell_type": "code",
      "source": [
        "#과제 4번\n",
        "\n",
        "N=input(\"숫자를 입력하시오.\")\n",
        "\n",
        "while N.isdecimal() is False:\n",
        "\n",
        "    N=input(\"정수를 입력하시오.\")\n",
        "\n",
        "if N.isdecimal() is True:\n",
        "\n",
        "    N=int(N)\n",
        "\n",
        "    if N>30:\n",
        "\n",
        "        print(\"출력할 수가 많습니다.\")\n",
        "\n",
        "    else:\n",
        "\n",
        "        a=1\n",
        "\n",
        "        while a<N+1:\n",
        "\n",
        "            b=1\n",
        "\n",
        "            while b<a+1:\n",
        "\n",
        "                print(b, end='')\n",
        "\n",
        "                b+=1\n",
        "\n",
        "            print()\n",
        "\n",
        "            a+=1\n",
        "\n",
        "#입력값이 정수면\n",
        "\n",
        "        #30이하일땐 피라미드 출력\n",
        "\n",
        "        #30초과이면 출력값이 많다는말 출력\n",
        "\n",
        "#입력값이 정수가 아니면\n",
        "\n",
        "        #정수를 입력하라는말과함께 \n",
        "\n",
        "        #정수입력할때까지 계속 입력반복"
      ],
      "metadata": {
        "colab": {
          "base_uri": "https://localhost:8080/"
        },
        "id": "yy4UoI0Pl36E",
        "outputId": "e3d0ac10-c878-4412-f79c-efb5d6c78edd"
      },
      "execution_count": null,
      "outputs": [
        {
          "output_type": "stream",
          "name": "stdout",
          "text": [
            "숫자를 입력하시오.6\n",
            "1\n",
            "12\n",
            "123\n",
            "1234\n",
            "12345\n",
            "123456\n"
          ]
        }
      ]
    }
  ]
}